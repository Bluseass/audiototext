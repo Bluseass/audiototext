{
  "nbformat": 4,
  "nbformat_minor": 0,
  "metadata": {
    "colab": {
      "provenance": [],
      "mount_file_id": "1lZ7CrV6eYU-jJq8HYQ3rCvgeaTfBpmH9",
      "authorship_tag": "ABX9TyPXM5q8QvwB0AwhjoSm+iiN",
      "include_colab_link": true
    },
    "kernelspec": {
      "name": "python3",
      "display_name": "Python 3"
    },
    "language_info": {
      "name": "python"
    }
  },
  "cells": [
    {
      "cell_type": "markdown",
      "metadata": {
        "id": "view-in-github",
        "colab_type": "text"
      },
      "source": [
        "<a href=\"https://colab.research.google.com/github/Bluseass/audiototext/blob/main/audiotextVosk.ipynb\" target=\"_parent\"><img src=\"https://colab.research.google.com/assets/colab-badge.svg\" alt=\"Open In Colab\"/></a>"
      ]
    },
    {
      "cell_type": "code",
      "execution_count": 5,
      "metadata": {
        "colab": {
          "base_uri": "https://localhost:8080/"
        },
        "id": "6JatesIfioe-",
        "outputId": "634a0a7b-d310-437d-e563-ce250aa85210"
      },
      "outputs": [
        {
          "output_type": "stream",
          "name": "stdout",
          "text": [
            "Collecting vosk\n",
            "  Downloading vosk-0.3.45-py3-none-manylinux_2_12_x86_64.manylinux2010_x86_64.whl (7.2 MB)\n",
            "\u001b[2K     \u001b[90m━━━━━━━━━━━━━━━━━━━━━━━━━━━━━━━━━━━━━━━━\u001b[0m \u001b[32m7.2/7.2 MB\u001b[0m \u001b[31m23.2 MB/s\u001b[0m eta \u001b[36m0:00:00\u001b[0m\n",
            "\u001b[?25hRequirement already satisfied: cffi>=1.0 in /usr/local/lib/python3.10/dist-packages (from vosk) (1.16.0)\n",
            "Requirement already satisfied: requests in /usr/local/lib/python3.10/dist-packages (from vosk) (2.31.0)\n",
            "Requirement already satisfied: tqdm in /usr/local/lib/python3.10/dist-packages (from vosk) (4.66.2)\n",
            "Collecting srt (from vosk)\n",
            "  Downloading srt-3.5.3.tar.gz (28 kB)\n",
            "  Preparing metadata (setup.py) ... \u001b[?25l\u001b[?25hdone\n",
            "Collecting websockets (from vosk)\n",
            "  Downloading websockets-12.0-cp310-cp310-manylinux_2_5_x86_64.manylinux1_x86_64.manylinux_2_17_x86_64.manylinux2014_x86_64.whl (130 kB)\n",
            "\u001b[2K     \u001b[90m━━━━━━━━━━━━━━━━━━━━━━━━━━━━━━━━━━━━━━━━\u001b[0m \u001b[32m130.2/130.2 kB\u001b[0m \u001b[31m15.4 MB/s\u001b[0m eta \u001b[36m0:00:00\u001b[0m\n",
            "\u001b[?25hRequirement already satisfied: pycparser in /usr/local/lib/python3.10/dist-packages (from cffi>=1.0->vosk) (2.22)\n",
            "Requirement already satisfied: charset-normalizer<4,>=2 in /usr/local/lib/python3.10/dist-packages (from requests->vosk) (3.3.2)\n",
            "Requirement already satisfied: idna<4,>=2.5 in /usr/local/lib/python3.10/dist-packages (from requests->vosk) (3.7)\n",
            "Requirement already satisfied: urllib3<3,>=1.21.1 in /usr/local/lib/python3.10/dist-packages (from requests->vosk) (2.0.7)\n",
            "Requirement already satisfied: certifi>=2017.4.17 in /usr/local/lib/python3.10/dist-packages (from requests->vosk) (2024.2.2)\n",
            "Building wheels for collected packages: srt\n",
            "  Building wheel for srt (setup.py) ... \u001b[?25l\u001b[?25hdone\n",
            "  Created wheel for srt: filename=srt-3.5.3-py3-none-any.whl size=22428 sha256=c51b186d05aaffe2139833c3476f0be38872a3aacdfd825409033b8aabe44697\n",
            "  Stored in directory: /root/.cache/pip/wheels/d7/31/a1/18e1e7e8bfdafd19e6803d7eb919b563dd11de380e4304e332\n",
            "Successfully built srt\n",
            "Installing collected packages: websockets, srt, vosk\n",
            "Successfully installed srt-3.5.3 vosk-0.3.45 websockets-12.0\n"
          ]
        }
      ],
      "source": [
        "!pip install vosk"
      ]
    },
    {
      "cell_type": "code",
      "source": [
        "!wget https://alphacephei.com/vosk/models/vosk-model-small-ru-0.15.zip\n",
        "!unzip vosk-model-small-ru-0.15.zip"
      ],
      "metadata": {
        "colab": {
          "base_uri": "https://localhost:8080/"
        },
        "id": "DI5QfBp9i0LY",
        "outputId": "07ec9918-bbb7-4fa5-ef52-e500d1d73c2a"
      },
      "execution_count": 6,
      "outputs": [
        {
          "output_type": "stream",
          "name": "stdout",
          "text": [
            "--2024-05-03 13:12:30--  https://alphacephei.com/vosk/models/vosk-model-small-ru-0.15.zip\n",
            "Resolving alphacephei.com (alphacephei.com)... 188.40.21.16, 2a01:4f8:13a:279f::2\n",
            "Connecting to alphacephei.com (alphacephei.com)|188.40.21.16|:443... connected.\n",
            "HTTP request sent, awaiting response... 200 OK\n",
            "Length: 44193249 (42M) [application/zip]\n",
            "Saving to: ‘vosk-model-small-ru-0.15.zip’\n",
            "\n",
            "vosk-model-small-ru 100%[===================>]  42.15M  18.0MB/s    in 2.3s    \n",
            "\n",
            "2024-05-03 13:12:33 (18.0 MB/s) - ‘vosk-model-small-ru-0.15.zip’ saved [44193249/44193249]\n",
            "\n",
            "Archive:  vosk-model-small-ru-0.15.zip\n",
            "   creating: vosk-model-small-ru-0.15/\n",
            "   creating: vosk-model-small-ru-0.15/am/\n",
            "  inflating: vosk-model-small-ru-0.15/am/final.mdl  \n",
            "   creating: vosk-model-small-ru-0.15/graph/\n",
            "  inflating: vosk-model-small-ru-0.15/graph/disambig_tid.int  \n",
            "  inflating: vosk-model-small-ru-0.15/graph/HCLr.fst  \n",
            "  inflating: vosk-model-small-ru-0.15/graph/Gr.fst  \n",
            "   creating: vosk-model-small-ru-0.15/graph/phones/\n",
            "  inflating: vosk-model-small-ru-0.15/graph/phones/word_boundary.int  \n",
            "   creating: vosk-model-small-ru-0.15/conf/\n",
            "  inflating: vosk-model-small-ru-0.15/conf/model.conf  \n",
            "  inflating: vosk-model-small-ru-0.15/conf/mfcc.conf  \n",
            "   creating: vosk-model-small-ru-0.15/ivector/\n",
            "  inflating: vosk-model-small-ru-0.15/ivector/splice.conf  \n",
            "  inflating: vosk-model-small-ru-0.15/ivector/final.dubm  \n",
            "  inflating: vosk-model-small-ru-0.15/ivector/global_cmvn.stats  \n",
            "  inflating: vosk-model-small-ru-0.15/ivector/final.ie  \n",
            "  inflating: vosk-model-small-ru-0.15/ivector/online_cmvn.conf  \n",
            "  inflating: vosk-model-small-ru-0.15/ivector/final.mat  \n",
            "  inflating: vosk-model-small-ru-0.15/README  \n"
          ]
        }
      ]
    },
    {
      "cell_type": "code",
      "source": [
        "import os\n",
        "from vosk import Model, KaldiRecognizer\n",
        "\n",
        "# Путь к распакованной модели\n",
        "model_path = \"vosk-model-small-ru-0.15\"\n",
        "\n",
        "# Загрузка модели\n",
        "model = Model(model_path)"
      ],
      "metadata": {
        "id": "ptgqNbdpi0Nh"
      },
      "execution_count": 7,
      "outputs": []
    },
    {
      "cell_type": "code",
      "source": [
        "!pip install ffmpeg"
      ],
      "metadata": {
        "colab": {
          "base_uri": "https://localhost:8080/"
        },
        "id": "Q1bbEXhrmln_",
        "outputId": "278102fe-c342-4546-9aef-26ffa537c5c9"
      },
      "execution_count": 15,
      "outputs": [
        {
          "output_type": "stream",
          "name": "stdout",
          "text": [
            "Collecting ffmpeg\n",
            "  Downloading ffmpeg-1.4.tar.gz (5.1 kB)\n",
            "  Preparing metadata (setup.py) ... \u001b[?25l\u001b[?25hdone\n",
            "Building wheels for collected packages: ffmpeg\n",
            "  Building wheel for ffmpeg (setup.py) ... \u001b[?25l\u001b[?25hdone\n",
            "  Created wheel for ffmpeg: filename=ffmpeg-1.4-py3-none-any.whl size=6082 sha256=bc145dcd4264bf36a2afc4d3105f5be28c35113f0d97786ad59e91ab49ed5186\n",
            "  Stored in directory: /root/.cache/pip/wheels/8e/7a/69/cd6aeb83b126a7f04cbe7c9d929028dc52a6e7d525ff56003a\n",
            "Successfully built ffmpeg\n",
            "Installing collected packages: ffmpeg\n",
            "Successfully installed ffmpeg-1.4\n"
          ]
        }
      ]
    },
    {
      "cell_type": "code",
      "source": [
        "import wave\n",
        "import ffmpeg\n",
        "import torch\n",
        "import torchaudio"
      ],
      "metadata": {
        "id": "xV0oU4d0i0Ph"
      },
      "execution_count": 17,
      "outputs": []
    },
    {
      "cell_type": "code",
      "source": [
        "# Путь к аудиофайлу MP3\n",
        "audio_path_mp3 = \"/content/drive/MyDrive/AudioToTextWithNer/common_voice_ru_33291662.mp3\"\n",
        "# Путь к конвертированному аудиофайлу WAV\n",
        "audio_path_wav = \"/content/drive/MyDrive/AudioToTextWithNer/common_voice_ru_33291662.wav\"\n",
        "\n",
        "# Конвертация MP3 в WAV с помощью torchaudio\n",
        "waveform, sample_rate = torchaudio.load(audio_path_mp3)\n",
        "torchaudio.save(audio_path_wav, waveform, sample_rate)\n",
        "\n",
        "# Создание объекта распознавателя\n",
        "rec = KaldiRecognizer(model, 16000)\n",
        "\n",
        "# Открытие аудиофайла\n",
        "wf = wave.open(audio_path, \"rb\")\n",
        "\n",
        "# Обработка аудиофайла по фрагментам\n",
        "while True:\n",
        "    data = wf.readframes(4000)  # Чтение фрагмента аудио (4000 байт)\n",
        "    if len(data) == 0:\n",
        "        break\n",
        "    if rec.AcceptWaveform(data):\n",
        "        # Вывод текста из фрагмента речи\n",
        "        print(rec.Result())\n",
        "\n",
        "# Вывод финального результата распознавания\n",
        "print(rec.FinalResult())"
      ],
      "metadata": {
        "colab": {
          "base_uri": "https://localhost:8080/"
        },
        "id": "FfZuwUuYi0Rl",
        "outputId": "aadf6d8a-3e06-4a40-e9eb-a752b125cc88"
      },
      "execution_count": 18,
      "outputs": [
        {
          "output_type": "stream",
          "name": "stdout",
          "text": [
            "{\n",
            "  \"text\" : \"\"\n",
            "}\n",
            "{\n",
            "  \"text\" : \"\"\n",
            "}\n",
            "{\n",
            "  \"text\" : \"\"\n",
            "}\n",
            "{\n",
            "  \"text\" : \"\"\n",
            "}\n",
            "{\n",
            "  \"text\" : \"\"\n",
            "}\n",
            "{\n",
            "  \"text\" : \"\"\n",
            "}\n",
            "{\n",
            "  \"text\" : \"\"\n",
            "}\n",
            "{\n",
            "  \"text\" : \"\"\n",
            "}\n",
            "{\n",
            "  \"text\" : \"\"\n",
            "}\n",
            "{\n",
            "  \"text\" : \"\"\n",
            "}\n",
            "{\n",
            "  \"text\" : \"\"\n",
            "}\n",
            "{\n",
            "  \"text\" : \"\"\n",
            "}\n"
          ]
        }
      ]
    }
  ]
}