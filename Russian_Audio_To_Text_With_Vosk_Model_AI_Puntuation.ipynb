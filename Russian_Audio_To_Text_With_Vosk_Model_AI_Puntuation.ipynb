{
  "nbformat": 4,
  "nbformat_minor": 0,
  "metadata": {
    "colab": {
      "provenance": [],
      "mount_file_id": "1otPej88z9oMpxxnbExeltRkj2rUFWfc9",
      "authorship_tag": "ABX9TyOTrX9jvetPfRQyu9zmPg7k",
      "include_colab_link": true
    },
    "kernelspec": {
      "name": "python3",
      "display_name": "Python 3"
    },
    "language_info": {
      "name": "python"
    }
  },
  "cells": [
    {
      "cell_type": "markdown",
      "metadata": {
        "id": "view-in-github",
        "colab_type": "text"
      },
      "source": [
        "<a href=\"https://colab.research.google.com/github/Bluseass/audiototext/blob/main/Russian_Audio_To_Text_With_Vosk_Model_AI_Puntuation.ipynb\" target=\"_parent\"><img src=\"https://colab.research.google.com/assets/colab-badge.svg\" alt=\"Open In Colab\"/></a>"
      ]
    },
    {
      "cell_type": "code",
      "execution_count": 1,
      "metadata": {
        "colab": {
          "base_uri": "https://localhost:8080/"
        },
        "id": "e1ahQ2N4nyz2",
        "outputId": "17d0cd11-9edc-4451-d334-7a49e479bf52"
      },
      "outputs": [
        {
          "output_type": "stream",
          "name": "stdout",
          "text": [
            "Requirement already satisfied: ffmpeg in /usr/local/lib/python3.10/dist-packages (1.4)\n",
            "Requirement already satisfied: pydub in /usr/local/lib/python3.10/dist-packages (0.25.1)\n",
            "Requirement already satisfied: vosk in /usr/local/lib/python3.10/dist-packages (0.3.45)\n",
            "Requirement already satisfied: cffi>=1.0 in /usr/local/lib/python3.10/dist-packages (from vosk) (1.16.0)\n",
            "Requirement already satisfied: requests in /usr/local/lib/python3.10/dist-packages (from vosk) (2.31.0)\n",
            "Requirement already satisfied: tqdm in /usr/local/lib/python3.10/dist-packages (from vosk) (4.66.2)\n",
            "Requirement already satisfied: srt in /usr/local/lib/python3.10/dist-packages (from vosk) (3.5.3)\n",
            "Requirement already satisfied: websockets in /usr/local/lib/python3.10/dist-packages (from vosk) (12.0)\n",
            "Requirement already satisfied: pycparser in /usr/local/lib/python3.10/dist-packages (from cffi>=1.0->vosk) (2.22)\n",
            "Requirement already satisfied: charset-normalizer<4,>=2 in /usr/local/lib/python3.10/dist-packages (from requests->vosk) (3.3.2)\n",
            "Requirement already satisfied: idna<4,>=2.5 in /usr/local/lib/python3.10/dist-packages (from requests->vosk) (3.7)\n",
            "Requirement already satisfied: urllib3<3,>=1.21.1 in /usr/local/lib/python3.10/dist-packages (from requests->vosk) (2.0.7)\n",
            "Requirement already satisfied: certifi>=2017.4.17 in /usr/local/lib/python3.10/dist-packages (from requests->vosk) (2024.2.2)\n",
            "Requirement already satisfied: transformers==4.16.2 in /usr/local/lib/python3.10/dist-packages (4.16.2)\n",
            "Requirement already satisfied: filelock in /usr/local/lib/python3.10/dist-packages (from transformers==4.16.2) (3.14.0)\n",
            "Requirement already satisfied: huggingface-hub<1.0,>=0.1.0 in /usr/local/lib/python3.10/dist-packages (from transformers==4.16.2) (0.20.3)\n",
            "Requirement already satisfied: numpy>=1.17 in /usr/local/lib/python3.10/dist-packages (from transformers==4.16.2) (1.25.2)\n",
            "Requirement already satisfied: packaging>=20.0 in /usr/local/lib/python3.10/dist-packages (from transformers==4.16.2) (24.0)\n",
            "Requirement already satisfied: pyyaml>=5.1 in /usr/local/lib/python3.10/dist-packages (from transformers==4.16.2) (6.0.1)\n",
            "Requirement already satisfied: regex!=2019.12.17 in /usr/local/lib/python3.10/dist-packages (from transformers==4.16.2) (2023.12.25)\n",
            "Requirement already satisfied: requests in /usr/local/lib/python3.10/dist-packages (from transformers==4.16.2) (2.31.0)\n",
            "Requirement already satisfied: sacremoses in /usr/local/lib/python3.10/dist-packages (from transformers==4.16.2) (0.1.1)\n",
            "Requirement already satisfied: tokenizers!=0.11.3,>=0.10.1 in /usr/local/lib/python3.10/dist-packages (from transformers==4.16.2) (0.19.1)\n",
            "Requirement already satisfied: tqdm>=4.27 in /usr/local/lib/python3.10/dist-packages (from transformers==4.16.2) (4.66.2)\n",
            "Requirement already satisfied: fsspec>=2023.5.0 in /usr/local/lib/python3.10/dist-packages (from huggingface-hub<1.0,>=0.1.0->transformers==4.16.2) (2023.6.0)\n",
            "Requirement already satisfied: typing-extensions>=3.7.4.3 in /usr/local/lib/python3.10/dist-packages (from huggingface-hub<1.0,>=0.1.0->transformers==4.16.2) (4.11.0)\n",
            "Requirement already satisfied: charset-normalizer<4,>=2 in /usr/local/lib/python3.10/dist-packages (from requests->transformers==4.16.2) (3.3.2)\n",
            "Requirement already satisfied: idna<4,>=2.5 in /usr/local/lib/python3.10/dist-packages (from requests->transformers==4.16.2) (3.7)\n",
            "Requirement already satisfied: urllib3<3,>=1.21.1 in /usr/local/lib/python3.10/dist-packages (from requests->transformers==4.16.2) (2.0.7)\n",
            "Requirement already satisfied: certifi>=2017.4.17 in /usr/local/lib/python3.10/dist-packages (from requests->transformers==4.16.2) (2024.2.2)\n",
            "Requirement already satisfied: click in /usr/local/lib/python3.10/dist-packages (from sacremoses->transformers==4.16.2) (8.1.7)\n",
            "Requirement already satisfied: joblib in /usr/local/lib/python3.10/dist-packages (from sacremoses->transformers==4.16.2) (1.4.0)\n"
          ]
        }
      ],
      "source": [
        "!pip3 install ffmpeg\n",
        "!pip3 install pydub\n",
        "!pip3 install vosk\n",
        "!pip install transformers==4.16.2"
      ]
    },
    {
      "cell_type": "code",
      "source": [
        "import transformers\n",
        "import torch\n",
        "import vosk\n",
        "import pydub\n",
        "import ffmpeg"
      ],
      "metadata": {
        "id": "kZ0ev54un1hF"
      },
      "execution_count": 2,
      "outputs": []
    },
    {
      "cell_type": "code",
      "source": [
        "!wget https://alphacephei.com/vosk/models/vosk-model-ru-0.22.zip\n",
        "# Распаковка\n",
        "!unzip vosk-model-ru-0.22.zip"
      ],
      "metadata": {
        "colab": {
          "base_uri": "https://localhost:8080/"
        },
        "id": "sLV_Z0htoCTU",
        "outputId": "5e0c6a75-7b30-43df-891e-413b70c3128a"
      },
      "execution_count": 3,
      "outputs": [
        {
          "output_type": "stream",
          "name": "stdout",
          "text": [
            "--2024-05-03 13:54:12--  https://alphacephei.com/vosk/models/vosk-model-ru-0.22.zip\n",
            "Resolving alphacephei.com (alphacephei.com)... 188.40.21.16, 2a01:4f8:13a:279f::2\n",
            "Connecting to alphacephei.com (alphacephei.com)|188.40.21.16|:443... connected.\n",
            "HTTP request sent, awaiting response... 200 OK\n",
            "Length: 1559419132 (1.5G) [application/zip]\n",
            "Saving to: ‘vosk-model-ru-0.22.zip’\n",
            "\n",
            "vosk-model-ru-0.22. 100%[===================>]   1.45G  24.4MB/s    in 63s     \n",
            "\n",
            "2024-05-03 13:55:16 (23.5 MB/s) - ‘vosk-model-ru-0.22.zip’ saved [1559419132/1559419132]\n",
            "\n",
            "Archive:  vosk-model-ru-0.22.zip\n",
            "   creating: vosk-model-ru-0.22/\n",
            "   creating: vosk-model-ru-0.22/graph/\n",
            "  inflating: vosk-model-ru-0.22/graph/words.txt  \n",
            "   creating: vosk-model-ru-0.22/graph/phones/\n",
            " extracting: vosk-model-ru-0.22/graph/phones/silence.csl  \n",
            "  inflating: vosk-model-ru-0.22/graph/phones/align_lexicon.txt  \n",
            "  inflating: vosk-model-ru-0.22/graph/phones/word_boundary.txt  \n",
            " extracting: vosk-model-ru-0.22/graph/phones/optional_silence.csl  \n",
            " extracting: vosk-model-ru-0.22/graph/phones/optional_silence.txt  \n",
            "  inflating: vosk-model-ru-0.22/graph/phones/disambig.int  \n",
            " extracting: vosk-model-ru-0.22/graph/phones/disambig.txt  \n",
            "  inflating: vosk-model-ru-0.22/graph/phones/align_lexicon.int  \n",
            "  inflating: vosk-model-ru-0.22/graph/phones/word_boundary.int  \n",
            " extracting: vosk-model-ru-0.22/graph/phones/optional_silence.int  \n",
            "  inflating: vosk-model-ru-0.22/graph/phones.txt  \n",
            "  inflating: vosk-model-ru-0.22/graph/HCLG.fst  \n",
            " extracting: vosk-model-ru-0.22/graph/num_pdfs  \n",
            "  inflating: vosk-model-ru-0.22/graph/disambig_tid.int  \n",
            "  inflating: vosk-model-ru-0.22/decode.py  \n",
            "   creating: vosk-model-ru-0.22/am/\n",
            " extracting: vosk-model-ru-0.22/am/frame_subsampling_factor  \n",
            "  inflating: vosk-model-ru-0.22/am/tree  \n",
            "  inflating: vosk-model-ru-0.22/am/final.mdl  \n",
            "   creating: vosk-model-ru-0.22/extra/\n",
            "  inflating: vosk-model-ru-0.22/extra/sova_devices.ref  \n",
            "  inflating: vosk-model-ru-0.22/extra/silero_youtube.ref  \n",
            "  inflating: vosk-model-ru-0.22/extra/golos_crowd.ref  \n",
            "  inflating: vosk-model-ru-0.22/extra/README  \n",
            "  inflating: vosk-model-ru-0.22/extra/silero_books.ref  \n",
            "  inflating: vosk-model-ru-0.22/extra/silero_calls.ref  \n",
            "   creating: vosk-model-ru-0.22/rnnlm/\n",
            " extracting: vosk-model-ru-0.22/rnnlm/oov.txt  \n",
            "  inflating: vosk-model-ru-0.22/rnnlm/special_symbol_opts.conf  \n",
            "  inflating: vosk-model-ru-0.22/rnnlm/features.txt  \n",
            "  inflating: vosk-model-ru-0.22/rnnlm/final.raw  \n",
            "  inflating: vosk-model-ru-0.22/rnnlm/special_symbol_opts.txt  \n",
            "  inflating: vosk-model-ru-0.22/rnnlm/feat_embedding.final.mat  \n",
            "  inflating: vosk-model-ru-0.22/rnnlm/word_feats.txt  \n",
            "  inflating: vosk-model-ru-0.22/rnnlm/info.txt  \n",
            "  inflating: vosk-model-ru-0.22/decoder-test.wav  \n",
            "  inflating: vosk-model-ru-0.22/README  \n",
            "   creating: vosk-model-ru-0.22/rescore/\n",
            "  inflating: vosk-model-ru-0.22/rescore/G.fst  \n",
            "  inflating: vosk-model-ru-0.22/rescore/G.carpa  \n",
            "   creating: vosk-model-ru-0.22/conf/\n",
            "  inflating: vosk-model-ru-0.22/conf/model.conf  \n",
            "  inflating: vosk-model-ru-0.22/conf/ivector_extractor.conf  \n",
            "  inflating: vosk-model-ru-0.22/conf/mfcc.conf  \n",
            "  inflating: vosk-model-ru-0.22/conf/online.conf  \n",
            "   creating: vosk-model-ru-0.22/ivector/\n",
            "  inflating: vosk-model-ru-0.22/ivector/final.dubm  \n",
            "  inflating: vosk-model-ru-0.22/ivector/global_cmvn.stats  \n",
            "  inflating: vosk-model-ru-0.22/ivector/final.ie  \n",
            "  inflating: vosk-model-ru-0.22/ivector/final.mat  \n",
            "  inflating: vosk-model-ru-0.22/ivector/splice.conf  \n",
            " extracting: vosk-model-ru-0.22/ivector/online_cmvn.conf  \n"
          ]
        }
      ]
    },
    {
      "cell_type": "code",
      "source": [
        "!mv vosk-model-ru-0.22/ model\n",
        "!rm -rf vosk-model-ru-0.22.zip"
      ],
      "metadata": {
        "id": "-RMvSMnnoCVk"
      },
      "execution_count": 4,
      "outputs": []
    },
    {
      "cell_type": "code",
      "source": [
        "from vosk import Model, KaldiRecognizer, SetLogLevel\n",
        "from pydub import AudioSegment\n",
        "import subprocess\n",
        "import json\n",
        "import os"
      ],
      "metadata": {
        "id": "iF23pSoNoCXz"
      },
      "execution_count": 5,
      "outputs": []
    },
    {
      "cell_type": "code",
      "source": [
        "#Frame Rate\n",
        "FRAME_RATE = 16000\n",
        "CHANNELS = 1\n",
        "\n",
        "#моделька\n",
        "model = Model(\"model\")\n",
        "rec = KaldiRecognizer(model, FRAME_RATE)\n",
        "rec.SetWords(True)\n",
        "\n",
        "#Предобработка\n",
        "mp3 = AudioSegment.from_mp3('/content/drive/MyDrive/AudioToTextWithNer/common_voice_ru_33291662.mp3')\n",
        "mp3 = mp3.set_channels(CHANNELS)\n",
        "mp3 = mp3.set_frame_rate(FRAME_RATE)\n",
        "\n",
        "#Распознавание\n",
        "rec.AcceptWaveform(mp3.raw_data)\n",
        "result = rec.Result()\n",
        "text = json.loads(result)[\"text\"]\n",
        "\n",
        "#Вывод\n",
        "print(text)"
      ],
      "metadata": {
        "colab": {
          "base_uri": "https://localhost:8080/"
        },
        "id": "gj88sHb6oCZ_",
        "outputId": "f4c1c9a2-203c-4f08-bba7-84d7a87d869b"
      },
      "execution_count": 6,
      "outputs": [
        {
          "output_type": "stream",
          "name": "stdout",
          "text": [
            "я меняю свою аву каждый день\n"
          ]
        }
      ]
    },
    {
      "cell_type": "markdown",
      "source": [
        "ДАЛЕЕ БЛОКИ ДЛЯ ДОБАВЛЕНИЯ ПУНКТУАЦИИ С ПОМОЩЬЮ МОДЕЛИ, ЕСЛИ НЕ НУЖНА ПУНКТУАЦИЯ ИХ МОЖНО НЕ ЗАПУСКАТЬ."
      ],
      "metadata": {
        "id": "9gDcFbE5tcjh"
      }
    },
    {
      "cell_type": "code",
      "source": [
        "!curl -o recasepunc.zip https://alphacephei.com/vosk/models/vosk-recasepunc-ru-0.22.zip\n",
        "!unzip recasepunc.zip\n",
        "!mv vosk-recasepunc-ru-0.22/ recasepunc\n",
        "!rm -rf recasepunc.zip"
      ],
      "metadata": {
        "colab": {
          "base_uri": "https://localhost:8080/"
        },
        "id": "u1se6XPHqZ9p",
        "outputId": "47db1dbb-dd13-4f5d-b279-ef65c446edb7"
      },
      "execution_count": 7,
      "outputs": [
        {
          "output_type": "stream",
          "name": "stdout",
          "text": [
            "  % Total    % Received % Xferd  Average Speed   Time    Time     Time  Current\n",
            "                                 Dload  Upload   Total   Spent    Left  Speed\n",
            "100 1622M  100 1622M    0     0  24.1M      0  0:01:07  0:01:07 --:--:-- 24.3M\n",
            "Archive:  recasepunc.zip\n",
            "   creating: vosk-recasepunc-ru-0.22/\n",
            "  inflating: vosk-recasepunc-ru-0.22/ru-test.txt  \n",
            "  inflating: vosk-recasepunc-ru-0.22/recasepunc.py  \n",
            "  inflating: vosk-recasepunc-ru-0.22/ru-test.txt.orig  \n",
            "  inflating: vosk-recasepunc-ru-0.22/checkpoint  \n",
            "  inflating: vosk-recasepunc-ru-0.22/example.py  \n",
            "  inflating: vosk-recasepunc-ru-0.22/README  \n"
          ]
        }
      ]
    },
    {
      "cell_type": "code",
      "source": [
        "cased = subprocess.check_output('python3 recasepunc/recasepunc.py predict recasepunc/checkpoint', shell=True, text=True, input=text)"
      ],
      "metadata": {
        "id": "ElkOL67GoCcl"
      },
      "execution_count": 8,
      "outputs": []
    },
    {
      "cell_type": "code",
      "source": [
        "print(text)"
      ],
      "metadata": {
        "colab": {
          "base_uri": "https://localhost:8080/"
        },
        "id": "sGeEgKkToCe6",
        "outputId": "2bae801a-b247-4ac5-be63-def241bc95a5"
      },
      "execution_count": 9,
      "outputs": [
        {
          "output_type": "stream",
          "name": "stdout",
          "text": [
            "я меняю свою аву каждый день\n"
          ]
        }
      ]
    }
  ]
}