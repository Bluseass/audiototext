{
  "nbformat": 4,
  "nbformat_minor": 0,
  "metadata": {
    "colab": {
      "provenance": [],
      "mount_file_id": "1dPsKgAxEpTLI5AXWU1AmxGHhDarrj3JG",
      "authorship_tag": "ABX9TyNQwLPO95meRYR/BTi3U8Af",
      "include_colab_link": true
    },
    "kernelspec": {
      "name": "python3",
      "display_name": "Python 3"
    },
    "language_info": {
      "name": "python"
    }
  },
  "cells": [
    {
      "cell_type": "markdown",
      "metadata": {
        "id": "view-in-github",
        "colab_type": "text"
      },
      "source": [
        "<a href=\"https://colab.research.google.com/github/Bluseass/audiototext/blob/main/AudioTextNER.ipynb\" target=\"_parent\"><img src=\"https://colab.research.google.com/assets/colab-badge.svg\" alt=\"Open In Colab\"/></a>"
      ]
    },
    {
      "cell_type": "code",
      "execution_count": null,
      "metadata": {
        "id": "92LvGpYtzc9Q"
      },
      "outputs": [],
      "source": [
        "!pip install torch torchvision torchaudio"
      ]
    },
    {
      "cell_type": "code",
      "source": [
        "!wget https://huggingface.co/facebook/wav2vec2-base-960h/resolve/main/pytorch_model.bin\n",
        "!wget https://huggingface.co/facebook/wav2vec2-base-960h/resolve/main/config.json"
      ],
      "metadata": {
        "id": "9bimmzZ_QyOe"
      },
      "execution_count": null,
      "outputs": []
    },
    {
      "cell_type": "code",
      "source": [
        "import torch\n",
        "from transformers import Wav2Vec2ForCTC, Wav2Vec2Processor\n",
        "\n",
        "#проц\n",
        "processor = Wav2Vec2Processor.from_pretrained(\"facebook/wav2vec2-base-960h\")\n",
        "\n",
        "#модель wav2Vec\n",
        "model = Wav2Vec2ForCTC.from_pretrained(\"facebook/wav2vec2-base-960h\")\n",
        "model.eval()\n"
      ],
      "metadata": {
        "id": "HZ4vFSUSQyQp"
      },
      "execution_count": null,
      "outputs": []
    },
    {
      "cell_type": "code",
      "source": [
        "import torchaudio\n",
        "\n",
        "#закинуть wav\n",
        "audio_input, _ = torchaudio.load('ТВОЙ ФАЙЛ С ГУГЛ ДИСКА ПОДКЛ ЕГО СЛЕВА В МЕНЮ И ПОТОМ СКОПИРОВАТЬ ПУТЬ')\n",
        "\n",
        "#сделать токены\n",
        "input_values = processor(audio_input, return_tensors=\"pt\").input_values\n",
        "\n",
        "#инференс\n",
        "with torch.no_grad():\n",
        "    logits = model(input_values).logits\n",
        "\n",
        "#декодер\n",
        "predicted_ids = torch.argmax(logits, dim=-1)\n",
        "transcription = processor.batch_decode(predicted_ids)\n",
        "print(\"Текст:\", transcription)\n"
      ],
      "metadata": {
        "id": "R-EEfmmUQySg"
      },
      "execution_count": null,
      "outputs": []
    },
    {
      "cell_type": "code",
      "source": [
        "\n",
        "data = ['привет','пока']\n",
        "\n",
        "def parser(text, data):\n",
        "  localdata = []\n",
        "  for word in text:\n",
        "     if word in data:\n",
        "      localdata.append(word)\n",
        "  return localdata\n"
      ],
      "metadata": {
        "id": "fsSqBUzuSZoM"
      },
      "execution_count": 6,
      "outputs": []
    },
    {
      "cell_type": "code",
      "source": [],
      "metadata": {
        "id": "QVTGSjppSZqn"
      },
      "execution_count": null,
      "outputs": []
    }
  ]
}