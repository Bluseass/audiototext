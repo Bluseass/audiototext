{
  "nbformat": 4,
  "nbformat_minor": 0,
  "metadata": {
    "colab": {
      "provenance": [],
      "mount_file_id": "1otPej88z9oMpxxnbExeltRkj2rUFWfc9",
      "authorship_tag": "ABX9TyN/2UncLfSQN5hEGIceTrlv",
      "include_colab_link": true
    },
    "kernelspec": {
      "name": "python3",
      "display_name": "Python 3"
    },
    "language_info": {
      "name": "python"
    }
  },
  "cells": [
    {
      "cell_type": "markdown",
      "metadata": {
        "id": "view-in-github",
        "colab_type": "text"
      },
      "source": [
        "<a href=\"https://colab.research.google.com/github/Bluseass/audiototext/blob/main/Russian_Audio_To_Text_With_Vosk_Model_AI.ipynb\" target=\"_parent\"><img src=\"https://colab.research.google.com/assets/colab-badge.svg\" alt=\"Open In Colab\"/></a>"
      ]
    },
    {
      "cell_type": "code",
      "execution_count": null,
      "metadata": {
        "id": "e1ahQ2N4nyz2"
      },
      "outputs": [],
      "source": [
        "!pip3 install ffmpeg\n",
        "!pip3 install pydub\n",
        "!pip3 install vosk"
      ]
    },
    {
      "cell_type": "code",
      "source": [
        "import transformers\n",
        "import torch\n",
        "import vosk\n",
        "import pydub\n",
        "import ffmpeg"
      ],
      "metadata": {
        "id": "kZ0ev54un1hF"
      },
      "execution_count": 2,
      "outputs": []
    },
    {
      "cell_type": "code",
      "source": [
        "!wget https://alphacephei.com/vosk/models/vosk-model-ru-0.22.zip\n",
        "# Распаковка\n",
        "!unzip vosk-model-ru-0.22.zip"
      ],
      "metadata": {
        "id": "sLV_Z0htoCTU"
      },
      "execution_count": null,
      "outputs": []
    },
    {
      "cell_type": "code",
      "source": [
        "!mv vosk-model-ru-0.22/ model\n",
        "!rm -rf vosk-model-ru-0.22.zip"
      ],
      "metadata": {
        "id": "-RMvSMnnoCVk"
      },
      "execution_count": 4,
      "outputs": []
    },
    {
      "cell_type": "code",
      "source": [
        "from vosk import Model, KaldiRecognizer, SetLogLevel\n",
        "from pydub import AudioSegment\n",
        "import subprocess\n",
        "import json\n",
        "import os"
      ],
      "metadata": {
        "id": "iF23pSoNoCXz"
      },
      "execution_count": 5,
      "outputs": []
    },
    {
      "cell_type": "code",
      "source": [
        "#Frame Rate\n",
        "FRAME_RATE = 16000\n",
        "CHANNELS = 1\n",
        "\n",
        "#моделька\n",
        "model = Model(\"model\")\n",
        "rec = KaldiRecognizer(model, FRAME_RATE)\n",
        "rec.SetWords(True)\n",
        "\n",
        "#Предобработка\n",
        "mp3 = AudioSegment.from_mp3('/content/drive/MyDrive/AudioToTextWithNer/common_voice_ru_33291662.mp3')\n",
        "mp3 = mp3.set_channels(CHANNELS)\n",
        "mp3 = mp3.set_frame_rate(FRAME_RATE)\n",
        "\n",
        "#Распознавание\n",
        "rec.AcceptWaveform(mp3.raw_data)\n",
        "result = rec.Result()\n",
        "text = json.loads(result)[\"text\"]\n",
        "\n",
        "#Вывод\n",
        "print(text)"
      ],
      "metadata": {
        "colab": {
          "base_uri": "https://localhost:8080/"
        },
        "id": "gj88sHb6oCZ_",
        "outputId": "a9b5b0c4-762e-4fab-df4c-4ac9e4be4b6f"
      },
      "execution_count": 6,
      "outputs": [
        {
          "output_type": "stream",
          "name": "stdout",
          "text": [
            "я меняю свою аву каждый день\n"
          ]
        }
      ]
    },
    {
      "cell_type": "code",
      "source": [],
      "metadata": {
        "id": "u1se6XPHqZ9p"
      },
      "execution_count": 6,
      "outputs": []
    },
    {
      "cell_type": "code",
      "source": [],
      "metadata": {
        "id": "ElkOL67GoCcl"
      },
      "execution_count": 6,
      "outputs": []
    },
    {
      "cell_type": "code",
      "source": [],
      "metadata": {
        "id": "sGeEgKkToCe6"
      },
      "execution_count": 6,
      "outputs": []
    }
  ]
}